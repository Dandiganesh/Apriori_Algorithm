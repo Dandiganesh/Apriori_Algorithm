{
 "cells": [
  {
   "cell_type": "code",
   "execution_count": 1,
   "id": "a90b64e3",
   "metadata": {},
   "outputs": [],
   "source": [
    "DataSet=[['m','o','n','k','e','y'],['d','o','n','k','e','y'],['m','a','k','e'],['m','u','c','k','y'],['c','o','o','k','e']]"
   ]
  },
  {
   "cell_type": "code",
   "execution_count": 2,
   "id": "ef46ff96",
   "metadata": {},
   "outputs": [
    {
     "data": {
      "text/plain": [
       "[{'e', 'k', 'm', 'n', 'o', 'y'},\n",
       " {'d', 'e', 'k', 'n', 'o', 'y'},\n",
       " {'a', 'e', 'k', 'm'},\n",
       " {'c', 'k', 'm', 'u', 'y'},\n",
       " {'c', 'e', 'k', 'o'}]"
      ]
     },
     "execution_count": 2,
     "metadata": {},
     "output_type": "execute_result"
    }
   ],
   "source": [
    "myData=[]\n",
    "for i in DataSet:\n",
    "    myData.append(set(i))\n",
    "myData"
   ]
  },
  {
   "cell_type": "code",
   "execution_count": 3,
   "id": "c3a94fad",
   "metadata": {},
   "outputs": [
    {
     "data": {
      "text/plain": [
       "{'e': 4,\n",
       " 'o': 3,\n",
       " 'k': 5,\n",
       " 'y': 3,\n",
       " 'n': 2,\n",
       " 'm': 3,\n",
       " 'd': 1,\n",
       " 'a': 1,\n",
       " 'u': 1,\n",
       " 'c': 2}"
      ]
     },
     "execution_count": 3,
     "metadata": {},
     "output_type": "execute_result"
    }
   ],
   "source": [
    "c1={}\n",
    "for i in myData:\n",
    "    for j in i:\n",
    "        if j in c1:\n",
    "            c1[j]+=1\n",
    "        else:\n",
    "            c1[j]=1\n",
    "c1"
   ]
  },
  {
   "cell_type": "code",
   "execution_count": 4,
   "id": "762c702b",
   "metadata": {},
   "outputs": [
    {
     "data": {
      "text/plain": [
       "{'e': 4, 'o': 3, 'k': 5, 'y': 3, 'm': 3}"
      ]
     },
     "execution_count": 4,
     "metadata": {},
     "output_type": "execute_result"
    }
   ],
   "source": [
    "l1={}\n",
    "minSupCnt=3\n",
    "for i in c1:\n",
    "    if c1[i]>=minSupCnt:\n",
    "        l1[i]=c1[i]\n",
    "l1"
   ]
  },
  {
   "cell_type": "code",
   "execution_count": 5,
   "id": "510f9eb5",
   "metadata": {},
   "outputs": [],
   "source": [
    "temp=list(l1.keys())"
   ]
  },
  {
   "cell_type": "code",
   "execution_count": 6,
   "id": "3cc7ef87",
   "metadata": {},
   "outputs": [
    {
     "data": {
      "text/plain": [
       "['e', 'o', 'k', 'y', 'm']"
      ]
     },
     "execution_count": 6,
     "metadata": {},
     "output_type": "execute_result"
    }
   ],
   "source": [
    "temp"
   ]
  },
  {
   "cell_type": "code",
   "execution_count": 7,
   "id": "27c9f4eb",
   "metadata": {},
   "outputs": [
    {
     "data": {
      "text/plain": [
       "['eo', 'ek', 'ey', 'em', 'ok', 'oy', 'om', 'ky', 'km', 'ym']"
      ]
     },
     "execution_count": 7,
     "metadata": {},
     "output_type": "execute_result"
    }
   ],
   "source": [
    "c2=[]\n",
    "for i in range(len(temp)):\n",
    "    for j in range(i+1,len(temp)):\n",
    "        c2.append(temp[i]+temp[j])\n",
    "c2\n"
   ]
  },
  {
   "cell_type": "code",
   "execution_count": 8,
   "id": "4073a795",
   "metadata": {},
   "outputs": [
    {
     "data": {
      "text/plain": [
       "{'eo': 3,\n",
       " 'ek': 4,\n",
       " 'ey': 2,\n",
       " 'em': 2,\n",
       " 'ok': 3,\n",
       " 'oy': 2,\n",
       " 'om': 1,\n",
       " 'ky': 3,\n",
       " 'km': 3,\n",
       " 'ym': 2}"
      ]
     },
     "execution_count": 8,
     "metadata": {},
     "output_type": "execute_result"
    }
   ],
   "source": [
    "c22={}\n",
    "for i in range(len(temp)):\n",
    "    for j in range(i+1,len(temp)):\n",
    "        count=0\n",
    "        for k in myData:\n",
    "            if temp[i] in k and temp[j] in k:\n",
    "                count+=1\n",
    "        c22[temp[i]+temp[j]]=count\n",
    "c22"
   ]
  },
  {
   "cell_type": "code",
   "execution_count": 9,
   "id": "46884173",
   "metadata": {},
   "outputs": [
    {
     "data": {
      "text/plain": [
       "{'eo': 3, 'ek': 4, 'ok': 3, 'ky': 3, 'km': 3}"
      ]
     },
     "execution_count": 9,
     "metadata": {},
     "output_type": "execute_result"
    }
   ],
   "source": [
    "l2={}\n",
    "for i in c22:\n",
    "    if c22[i]>=minSupCnt:\n",
    "        l2[i]=c22[i]\n",
    "l2\n"
   ]
  },
  {
   "cell_type": "code",
   "execution_count": 11,
   "id": "990f40e2",
   "metadata": {},
   "outputs": [
    {
     "data": {
      "text/plain": [
       "['eok', 'kym']"
      ]
     },
     "execution_count": 11,
     "metadata": {},
     "output_type": "execute_result"
    }
   ],
   "source": [
    "c3=[]\n",
    "for i in range(len(temp)):\n",
    "    for j in range(i+1,len(temp)):\n",
    "        for k in range(j+1,len(temp)):\n",
    "            if temp[i]+temp[j] in l2 and temp[i]+temp[k] in l2 and temp[j]+temp[k]:\n",
    "                c3.append(temp[i]+temp[j]+temp[k])\n",
    "c3"
   ]
  },
  {
   "cell_type": "code",
   "execution_count": 13,
   "id": "6d122bcd",
   "metadata": {},
   "outputs": [
    {
     "data": {
      "text/plain": [
       "{'eok': 3, 'kym': 2}"
      ]
     },
     "execution_count": 13,
     "metadata": {},
     "output_type": "execute_result"
    }
   ],
   "source": [
    "c33={}\n",
    "for i in range(len(temp)):\n",
    "    for j in range(i+1,len(temp)):\n",
    "        for k in range(j+1,len(temp)):\n",
    "            if temp[i]+temp[j] in l2 and temp[i]+temp[k] in l2 and temp[j]+temp[k]:\n",
    "               cnt=0\n",
    "               for m in myData:\n",
    "                   if temp[i] in m and temp[j] in m and temp[k] in m:\n",
    "                       cnt+=1\n",
    "                       #print(temp[i]+temp[j]+temp[k])\n",
    "                       #print(m)\n",
    "               c33[temp[i]+temp[j]+temp[k]]=cnt\n",
    "c33"
   ]
  },
  {
   "cell_type": "code",
   "execution_count": 14,
   "id": "ed8fb48e",
   "metadata": {},
   "outputs": [
    {
     "data": {
      "text/plain": [
       "{'eok': 3}"
      ]
     },
     "execution_count": 14,
     "metadata": {},
     "output_type": "execute_result"
    }
   ],
   "source": [
    "l3={}\n",
    "for i in c33:\n",
    "    if c33[i]>=minSupCnt:\n",
    "        l3[i]=c33[i]\n",
    "l3"
   ]
  },
  {
   "cell_type": "code",
   "execution_count": null,
   "id": "937ade93",
   "metadata": {},
   "outputs": [],
   "source": []
  }
 ],
 "metadata": {
  "kernelspec": {
   "display_name": "Python 3 (ipykernel)",
   "language": "python",
   "name": "python3"
  },
  "language_info": {
   "codemirror_mode": {
    "name": "ipython",
    "version": 3
   },
   "file_extension": ".py",
   "mimetype": "text/x-python",
   "name": "python",
   "nbconvert_exporter": "python",
   "pygments_lexer": "ipython3",
   "version": "3.11.0"
  }
 },
 "nbformat": 4,
 "nbformat_minor": 5
}
